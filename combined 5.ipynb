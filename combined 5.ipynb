{
 "cells": [
  {
   "cell_type": "code",
   "execution_count": 67,
   "id": "8354de39-50ed-437a-b474-d21622d151e6",
   "metadata": {},
   "outputs": [],
   "source": [
    "import networkx as nx\n",
    "import numpy as np\n",
    "import matplotlib.pyplot as plt\n",
    "from tqdm import tqdm"
   ]
  },
  {
   "cell_type": "code",
   "execution_count": 68,
   "id": "6fa6d315-db32-4553-978a-776410b9bcec",
   "metadata": {},
   "outputs": [],
   "source": [
    "num_nodes=1000\n",
    "num_edges=5000\n",
    "delta=0.02\n",
    "topologies=['RN','BAN']\n",
    "l0_values=range(1,7)\n",
    "max_samples=1000"
   ]
  },
  {
   "cell_type": "code",
   "execution_count": 69,
   "id": "04e46ec1-ef98-4995-9e59-97bcf08e9477",
   "metadata": {},
   "outputs": [],
   "source": [
    "def generate_topology(topology, num_nodes, num_edges):\n",
    "    G=nx.Graph()\n",
    "    pos={}\n",
    "    if topology == 'RN':\n",
    "        p=2*num_edges/(num_nodes*(num_nodes-1))\n",
    "        G=nx.erdos_renyi_graph(num_nodes,p)\n",
    "    elif topology == 'BAN':\n",
    "        m=num_edges//num_nodes\n",
    "        G=nx.barabasi_albert_graph(num_nodes,m)\n",
    "    G.remove_nodes_from(list(nx.isolates(G)))\n",
    "    for u,v in G.edges():\n",
    "        G[u][v]['c_e']=np.random.uniform(0.97,0.99)\n",
    "    return G"
   ]
  },
  {
   "cell_type": "code",
   "execution_count": 70,
   "id": "87f8761f-9e21-4d4b-94b0-8fe778402949",
   "metadata": {},
   "outputs": [],
   "source": [
    "def purification_for_3paths(l0_p, l1_p, l2_p, delta):\n",
    "    numerator = (1 - (1/6)*(3*l0_p + 3*l1_p + 4*l2_p)*delta +\n",
    "                (1/18)*(4*l0_p*l1_p + 5*l1_p*l2_p + 5*l2_p*l0_p)*delta**2 -\n",
    "                (7/54)*l0_p*l1_p*l2_p*delta**3)\n",
    "    denominator = (1 - (1/6)*(3*l0_p + 3*l1_p + 2*l2_p)*delta +\n",
    "                  (1/18)*(6*l0_p*l1_p + 4*l1_p*l2_p + 4*l2_p*l0_p)*delta**2 -\n",
    "                  (4/27)*l0_p*l1_p*l2_p*delta**3)\n",
    "    return numerator / denominator if denominator != 0 else 0.0"
   ]
  },
  {
   "cell_type": "code",
   "execution_count": 71,
   "id": "337ab4e2-d3e5-4c85-87d7-c23a7e5da135",
   "metadata": {},
   "outputs": [],
   "source": [
    "def purification(C1, C2):\n",
    "    return (13 + 14*C1 + 14*C2 + 40*C1*C2) / (41 + 4*C1 + 4*C2 + 32*C1*C2)"
   ]
  },
  {
   "cell_type": "code",
   "execution_count": 72,
   "id": "3eaec128-17b1-4fc9-9637-0f92f1233c5e",
   "metadata": {},
   "outputs": [],
   "source": [
    "def find_3_shortest_paths(G, s, d):\n",
    "    subgraph = G.copy()\n",
    "    paths = []\n",
    "    path_lengths = []\n",
    "    for i in range(1, 4):\n",
    "        try:\n",
    "            path = nx.shortest_path(subgraph, source=s, target=d)\n",
    "            paths.append(path)\n",
    "            path_lengths.append(len(path) - 1)\n",
    "            for u, v in zip(path[:-1], path[1:]):\n",
    "                subgraph.remove_edge(u, v)\n",
    "        except nx.NetworkXNoPath:\n",
    "            break\n",
    "    paths = sorted(paths, key=len, reverse=True)\n",
    "    return paths, path_lengths"
   ]
  },
  {
   "cell_type": "code",
   "execution_count": 73,
   "id": "805d0902-eb9f-4fe5-9f71-2e0be2bda6f0",
   "metadata": {},
   "outputs": [],
   "source": [
    "def find_node_pairs_with_path_length(G, target_length):\n",
    "    node_pairs = []\n",
    "    for node1 in tqdm(G.nodes):\n",
    "        for node2 in G.nodes:\n",
    "            if node1 != node2:\n",
    "                try:\n",
    "                    path_length = nx.shortest_path_length(G, source=node1, target=node2)\n",
    "                    if path_length == target_length:\n",
    "                        node_pairs.append((node1, node2))\n",
    "                except nx.NetworkXNoPath:\n",
    "                    pass\n",
    "    return node_pairs"
   ]
  },
  {
   "cell_type": "code",
   "execution_count": 74,
   "id": "49daffc7-68e3-4ec6-8b68-b73d46b83e1e",
   "metadata": {},
   "outputs": [],
   "source": [
    "def Concurrence_after_swapping(path, G):\n",
    "    C=[]\n",
    "    for u, v in zip(path[:-1], path[1:]):\n",
    "        C.append(G[u][v]['c_e'])\n",
    "    if len(C)>1:\n",
    "        C1=C[0]\n",
    "        for i in range(len(C)-1):\n",
    "            C2=C[i+1]\n",
    "            C3=(C1 + C2 + 2*C1*C2 - 1) / 3\n",
    "            C1=C3\n",
    "    else:\n",
    "        C3=C[0]\n",
    "    return C3"
   ]
  },
  {
   "cell_type": "code",
   "execution_count": 75,
   "id": "c3d8ba9d-c7c5-4bb9-bd9a-113ba7094bfa",
   "metadata": {},
   "outputs": [],
   "source": [
    "def Concurrence_after_purification(paths, G):\n",
    "    C_path=[]\n",
    "    for path in paths:\n",
    "        C_path.append(Concurrence_after_swapping(path, G))\n",
    "    if len(C_path)>1:\n",
    "        C_path1=C_path[0]\n",
    "        for i in range(len(C_path)-1):\n",
    "            C_path2=C_path[i+1]\n",
    "            C_path3=purification(C_path1, C_path2)\n",
    "            C_path1=C_path3\n",
    "    else:\n",
    "        C_path3=C_path[0]\n",
    "    return C_path3"
   ]
  },
  {
   "cell_type": "code",
   "execution_count": 76,
   "id": "6cea2af8-63f5-4c12-be7b-4fad1fdb69e1",
   "metadata": {},
   "outputs": [],
   "source": [
    "def Concurrence_after_swapping_and_purification(G, s, d):\n",
    "    paths, path_lengths = find_3_shortest_paths(G, s, d)\n",
    "    return Concurrence_after_purification(paths, G)"
   ]
  },
  {
   "cell_type": "code",
   "execution_count": null,
   "id": "4f55be9d-4040-44fc-9bec-59848303af05",
   "metadata": {},
   "outputs": [
    {
     "name": "stdout",
     "output_type": "stream",
     "text": [
      "Processing RN\n",
      "\n",
      "Processing l0 = 1\n"
     ]
    },
    {
     "name": "stderr",
     "output_type": "stream",
     "text": [
      "100%|██████████████████████████████████████████████████████████████████████████████| 1000/1000 [01:04<00:00, 15.53it/s]\n",
      "100%|██████████████████████████████████████████████████████████████████████████████| 1000/1000 [01:25<00:00, 11.75it/s]\n"
     ]
    },
    {
     "name": "stdout",
     "output_type": "stream",
     "text": [
      "\n",
      "Processing l0 = 2\n"
     ]
    },
    {
     "name": "stderr",
     "output_type": "stream",
     "text": [
      "100%|██████████████████████████████████████████████████████████████████████████████| 1000/1000 [01:03<00:00, 15.67it/s]\n",
      "100%|██████████████████████████████████████████████████████████████████████████████| 1000/1000 [02:09<00:00,  7.70it/s]\n"
     ]
    },
    {
     "name": "stdout",
     "output_type": "stream",
     "text": [
      "\n",
      "Processing l0 = 3\n"
     ]
    },
    {
     "name": "stderr",
     "output_type": "stream",
     "text": [
      "100%|██████████████████████████████████████████████████████████████████████████████| 1000/1000 [01:01<00:00, 16.20it/s]\n",
      "100%|██████████████████████████████████████████████████████████████████████████████| 1000/1000 [02:48<00:00,  5.93it/s]\n"
     ]
    },
    {
     "name": "stdout",
     "output_type": "stream",
     "text": [
      "\n",
      "Processing l0 = 4\n"
     ]
    },
    {
     "name": "stderr",
     "output_type": "stream",
     "text": [
      "100%|██████████████████████████████████████████████████████████████████████████████| 1000/1000 [01:06<00:00, 15.05it/s]\n",
      "100%|██████████████████████████████████████████████████████████████████████████████| 1000/1000 [03:35<00:00,  4.65it/s]\n"
     ]
    },
    {
     "name": "stdout",
     "output_type": "stream",
     "text": [
      "\n",
      "Processing l0 = 5\n"
     ]
    },
    {
     "name": "stderr",
     "output_type": "stream",
     "text": [
      "100%|██████████████████████████████████████████████████████████████████████████████| 1000/1000 [00:55<00:00, 18.05it/s]\n",
      "100%|██████████████████████████████████████████████████████████████████████████████| 1000/1000 [04:21<00:00,  3.82it/s]\n"
     ]
    },
    {
     "name": "stdout",
     "output_type": "stream",
     "text": [
      "\n",
      "Processing l0 = 6\n"
     ]
    },
    {
     "name": "stderr",
     "output_type": "stream",
     "text": [
      "100%|██████████████████████████████████████████████████████████████████████████████| 1000/1000 [01:05<00:00, 15.24it/s]\n",
      "0it [00:00, ?it/s]\n"
     ]
    },
    {
     "name": "stdout",
     "output_type": "stream",
     "text": [
      "Processing BAN\n",
      "\n",
      "Processing l0 = 1\n"
     ]
    },
    {
     "name": "stderr",
     "output_type": "stream",
     "text": [
      "100%|██████████████████████████████████████████████████████████████████████████████| 1000/1000 [00:48<00:00, 20.69it/s]\n",
      "100%|██████████████████████████████████████████████████████████████████████████████| 1000/1000 [01:22<00:00, 12.18it/s]\n"
     ]
    },
    {
     "name": "stdout",
     "output_type": "stream",
     "text": [
      "\n",
      "Processing l0 = 2\n"
     ]
    },
    {
     "name": "stderr",
     "output_type": "stream",
     "text": [
      "100%|██████████████████████████████████████████████████████████████████████████████| 1000/1000 [00:46<00:00, 21.67it/s]\n",
      "100%|██████████████████████████████████████████████████████████████████████████████| 1000/1000 [01:56<00:00,  8.62it/s]\n"
     ]
    },
    {
     "name": "stdout",
     "output_type": "stream",
     "text": [
      "\n",
      "Processing l0 = 3\n"
     ]
    },
    {
     "name": "stderr",
     "output_type": "stream",
     "text": [
      "100%|██████████████████████████████████████████████████████████████████████████████| 1000/1000 [00:47<00:00, 20.88it/s]\n",
      "100%|██████████████████████████████████████████████████████████████████████████████| 1000/1000 [02:43<00:00,  6.13it/s]\n"
     ]
    },
    {
     "name": "stdout",
     "output_type": "stream",
     "text": [
      "\n",
      "Processing l0 = 4\n"
     ]
    },
    {
     "name": "stderr",
     "output_type": "stream",
     "text": [
      "  1%|▋                                                                                | 9/1000 [00:00<00:46, 21.37it/s]"
     ]
    }
   ],
   "source": [
    "results = {topo: {l0: {'MEP': 0.0, 'Link-level MEP': 0.0} for l0 in l0_values} for topo in topologies}\n",
    "for topology in topologies:\n",
    "    print(f\"Processing {topology}\")\n",
    "    G = generate_topology(topology, num_nodes, num_edges)\n",
    "    for l0 in l0_values:\n",
    "        print(f\"\\nProcessing l0 = {l0}\")\n",
    "        node_pairs = find_node_pairs_with_path_length(G,l0)\n",
    "        num_of_node_pairs = len(node_pairs)\n",
    "        np.random.shuffle(node_pairs)\n",
    "        if num_of_node_pairs > max_samples :\n",
    "            node_pairs = node_pairs[:1000]\n",
    "        C_sp_total = 0\n",
    "        C_ps_total = 0\n",
    "        for s, d in tqdm(node_pairs):\n",
    "            C_sp = Concurrence_after_swapping_and_purification(G, s, d)\n",
    "            C_sp_total = C_sp_total + C_sp\n",
    "            S_path = nx.shortest_path(G, source=s, target=d)\n",
    "            C_ll = []\n",
    "            for m, n in zip(S_path[:-1], S_path[1:]):\n",
    "                C_ll.append(Concurrence_after_swapping_and_purification(G, m, n))\n",
    "            if len(C_ll)>1:\n",
    "                C_ll1 = C_ll[0]\n",
    "                for i in range(len(C_ll)-1):\n",
    "                    C_ll2 =C_ll[i+1]\n",
    "                    C_ll3=(C_ll1+C_ll2+2*C_ll1*C_ll2-1)/3\n",
    "                    C_ll1=C_ll3\n",
    "            else:\n",
    "                C_ll3=C_ll[0]\n",
    "            C_ps_total = C_ps_total + C_ll3\n",
    "        if len(node_pairs) == 0:\n",
    "            C_ps_avg = 0\n",
    "            C_sp_avg = 0\n",
    "        else:\n",
    "            C_ps_avg = C_ps_total / len(node_pairs)\n",
    "            C_sp_avg = C_sp_total / len(node_pairs)\n",
    "        results[topology][l0]['MEP'] = C_sp_avg\n",
    "        results[topology][l0]['Link-level MEP'] = C_ps_avg\n",
    "\n",
    "# Plotting\n",
    "plt.figure(figsize=(10,6))\n",
    "markers = ['o', 's']\n",
    "colors = ['gold', 'sienna']\n",
    "labels = ['RN', 'BAN']\n",
    "for idx, topo in enumerate(topologies):\n",
    "    x = list(l0_values)\n",
    "    y_mep = [results[topo][l0]['MEP'] for l0 in l0_values]\n",
    "    y_llmep = [results[topo][l0]['Link-level MEP'] for l0 in l0_values]\n",
    "    plt.plot(x, y_mep, marker=markers[idx], color=colors[idx], linestyle='-', label=f'{labels[idx]} MEP')\n",
    "    plt.plot(x, y_llmep, marker=markers[idx], color=colors[idx], linestyle=':', label=f'{labels[idx]} Link-level MEP')\n",
    "plt.xlabel('Shortest Path Length (l₀)')\n",
    "plt.ylabel('Average Concurrence')\n",
    "plt.title('Multipath Entanglement Purification Strategies')\n",
    "plt.legend()\n",
    "plt.grid(True)\n",
    "plt.ylim(0.88, 1.00)\n",
    "plt.show()"
   ]
  },
  {
   "cell_type": "code",
   "execution_count": null,
   "id": "fd5d50eb-f589-4a35-9f10-5122ce30e2e4",
   "metadata": {},
   "outputs": [],
   "source": []
  }
 ],
 "metadata": {
  "kernelspec": {
   "display_name": "Python 3 (ipykernel)",
   "language": "python",
   "name": "python3"
  },
  "language_info": {
   "codemirror_mode": {
    "name": "ipython",
    "version": 3
   },
   "file_extension": ".py",
   "mimetype": "text/x-python",
   "name": "python",
   "nbconvert_exporter": "python",
   "pygments_lexer": "ipython3",
   "version": "3.12.8"
  }
 },
 "nbformat": 4,
 "nbformat_minor": 5
}
